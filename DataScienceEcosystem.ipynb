{
 "cells": [
  {
   "cell_type": "markdown",
   "id": "d54de1de-29cd-4451-a18d-5ed648246e09",
   "metadata": {},
   "source": [
    "# Data Science Tools and Ecosystem"
   ]
  },
  {
   "cell_type": "markdown",
   "id": "a0e0fc71-9bfb-495d-bf02-e598c6bcca56",
   "metadata": {},
   "source": [
    "In this notebook, Data Science Tools and Ecosystem are summarized.\n",
    "\n",
    "**Objetives:**\n",
    "\n",
    "- Use of markdown cells\n",
    "- Use of code cells\n",
    "- Create markdown cells with titles of different levels\n",
    "- Create markdown cells with different types of lists and tables\n",
    "- Use of basic arithmetic operations"
   ]
  },
  {
   "cell_type": "markdown",
   "id": "66f8b966-7eb6-425f-bb12-8b1591f23d49",
   "metadata": {},
   "source": [
    "Some of the popular languages that Data Scientists use are:\n",
    "\n",
    "1. Python\n",
    "2. R\n",
    "3. SQL\n",
    "4. Julia\n",
    "5. Java\n",
    "6. Java Script\n",
    "7. C++\n",
    "8. Ruby\n",
    "9. Go\n",
    "10. Visual Basic\n",
    "11. Scala"
   ]
  },
  {
   "cell_type": "markdown",
   "id": "8608d02b-199d-4fec-94b0-0092740c602e",
   "metadata": {},
   "source": [
    "Some of the commonly used libraries used by Data Scientists include:\n",
    "1. Pandas (Data structures and tools)\n",
    "2. NumPy (arrays and matrices)\n",
    "3. Matplotlib (plots and graphs)\n",
    "4. Seaborn (plots)\n",
    "5. Scikit-learn (machine learning)\n",
    "6. Keras (deep learning neural networks)\n"
   ]
  },
  {
   "cell_type": "markdown",
   "id": "ed2af7ac",
   "metadata": {},
   "source": [
    "## Create a markdown cell with a table\n",
    "\n",
    "| Data Science Tools |\n",
    "| ---------------------|\n",
    "| MySQL |\n",
    "| Apache Spark SQL |\n",
    "| GitHub |\n",
    "| Tensor Flow |\n",
    "| Kylo |"
   ]
  },
  {
   "cell_type": "markdown",
   "id": "c6f48d60",
   "metadata": {},
   "source": [
    "### Below are a few examples of evaluating arithmetic expressions in Python\n"
   ]
  },
  {
   "cell_type": "code",
   "execution_count": 7,
   "id": "c01f890b",
   "metadata": {},
   "outputs": [
    {
     "data": {
      "text/plain": [
       "17"
      ]
     },
     "execution_count": 7,
     "metadata": {},
     "output_type": "execute_result"
    }
   ],
   "source": [
    "# This a simple arithmetic expression to multiply then add integers\n",
    "\n",
    "(3*4)+5\n",
    "\n"
   ]
  },
  {
   "cell_type": "code",
   "execution_count": 18,
   "id": "b686fb43",
   "metadata": {},
   "outputs": [
    {
     "data": {
      "text/plain": [
       "3.3333333333333335"
      ]
     },
     "execution_count": 18,
     "metadata": {},
     "output_type": "execute_result"
    }
   ],
   "source": [
    "# This will convert 200 minutes to hours by diving by 60\n",
    "\n",
    "min=200\n",
    "hs=min/60\n",
    "\n",
    "hs"
   ]
  },
  {
   "cell_type": "markdown",
   "id": "06ffdeb2",
   "metadata": {},
   "source": [
    "## Author\n",
    "\n",
    "Ing. Carolina Gelmetti"
   ]
  },
  {
   "cell_type": "code",
   "execution_count": null,
   "id": "378bbbfb",
   "metadata": {},
   "outputs": [],
   "source": []
  }
 ],
 "metadata": {
  "kernelspec": {
   "display_name": "Python 3 (ipykernel)",
   "language": "python",
   "name": "python3"
  },
  "language_info": {
   "codemirror_mode": {
    "name": "ipython",
    "version": 3
   },
   "file_extension": ".py",
   "mimetype": "text/x-python",
   "name": "python",
   "nbconvert_exporter": "python",
   "pygments_lexer": "ipython3",
   "version": "3.11.7"
  }
 },
 "nbformat": 4,
 "nbformat_minor": 5
}
